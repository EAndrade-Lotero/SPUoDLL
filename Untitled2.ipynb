{
 "cells": [
  {
   "cell_type": "code",
   "execution_count": 8,
   "metadata": {},
   "outputs": [],
   "source": [
    "import pandas as pd\n",
    "import matplotlib.pyplot as plt\n",
    "from matplotlib.gridspec import GridSpec\n",
    "import seaborn as sns\n",
    "import numpy as np\n",
    "from statsmodels.formula.api import ols\n",
    "from scipy import stats\n",
    "import statsmodels.formula.api as smf"
   ]
  },
  {
   "cell_type": "code",
   "execution_count": 22,
   "metadata": {},
   "outputs": [],
   "source": [
    "def filter_variables(df, dict_variables) :\n",
    "    inicial = True\n",
    "    for key in dict_variables.keys() :\n",
    "        if type(dict_variables[key]) == str:\n",
    "            if inicial :\n",
    "                filtro = f\"({key}\\'{dict_variables[key]}\\')\"\n",
    "                inicial = False\n",
    "            else:\n",
    "                filtro = filtro + f\" and ({key}\\'{dict_variables[key]}\\')\"\n",
    "        else:\n",
    "            if inicial :\n",
    "                filtro = f\"({key}{dict_variables[key]})\"\n",
    "                inicial = False\n",
    "            else:\n",
    "                filtro = filtro + f\" and ({key}{dict_variables[key]})\"\n",
    "\n",
    "    return pd.DataFrame(df.query(filtro))"
   ]
  },
  {
   "cell_type": "code",
   "execution_count": 23,
   "metadata": {},
   "outputs": [
    {
     "data": {
      "text/plain": [
       "(20735, 17)"
      ]
     },
     "execution_count": 23,
     "metadata": {},
     "output_type": "execute_result"
    }
   ],
   "source": [
    "data = pd.read_csv('performances.csv')\n",
    "data.shape"
   ]
  },
  {
   "cell_type": "code",
   "execution_count": 24,
   "metadata": {},
   "outputs": [
    {
     "data": {
      "text/html": [
       "<div>\n",
       "<style scoped>\n",
       "    .dataframe tbody tr th:only-of-type {\n",
       "        vertical-align: middle;\n",
       "    }\n",
       "\n",
       "    .dataframe tbody tr th {\n",
       "        vertical-align: top;\n",
       "    }\n",
       "\n",
       "    .dataframe thead th {\n",
       "        text-align: right;\n",
       "    }\n",
       "</style>\n",
       "<table border=\"1\" class=\"dataframe\">\n",
       "  <thead>\n",
       "    <tr style=\"text-align: right;\">\n",
       "      <th></th>\n",
       "      <th>treatment</th>\n",
       "      <th>stage</th>\n",
       "      <th>dyad</th>\n",
       "      <th>player</th>\n",
       "      <th>expert_in</th>\n",
       "      <th>novice_in</th>\n",
       "      <th>round</th>\n",
       "      <th>object</th>\n",
       "      <th>position</th>\n",
       "      <th>kind</th>\n",
       "      <th>classif</th>\n",
       "      <th>accuracy</th>\n",
       "      <th>expert_dog</th>\n",
       "      <th>queried</th>\n",
       "      <th>answer_correct</th>\n",
       "      <th>answered</th>\n",
       "      <th>yes/no</th>\n",
       "    </tr>\n",
       "  </thead>\n",
       "  <tbody>\n",
       "    <tr>\n",
       "      <th>0</th>\n",
       "      <td>single</td>\n",
       "      <td>Training rounds</td>\n",
       "      <td>32519-32519</td>\n",
       "      <td>325192931513079</td>\n",
       "      <td>terrier</td>\n",
       "      <td>hound</td>\n",
       "      <td>1</td>\n",
       "      <td>C11.jpg</td>\n",
       "      <td>frame1</td>\n",
       "      <td>C</td>\n",
       "      <td>C</td>\n",
       "      <td>1</td>\n",
       "      <td>True</td>\n",
       "      <td>NaN</td>\n",
       "      <td>NaN</td>\n",
       "      <td>NaN</td>\n",
       "      <td>NaN</td>\n",
       "    </tr>\n",
       "    <tr>\n",
       "      <th>1</th>\n",
       "      <td>single</td>\n",
       "      <td>Training rounds</td>\n",
       "      <td>32519-32519</td>\n",
       "      <td>325192931513079</td>\n",
       "      <td>terrier</td>\n",
       "      <td>hound</td>\n",
       "      <td>1</td>\n",
       "      <td>A1.jpg</td>\n",
       "      <td>frame2</td>\n",
       "      <td>A</td>\n",
       "      <td>C</td>\n",
       "      <td>0</td>\n",
       "      <td>True</td>\n",
       "      <td>NaN</td>\n",
       "      <td>NaN</td>\n",
       "      <td>NaN</td>\n",
       "      <td>NaN</td>\n",
       "    </tr>\n",
       "    <tr>\n",
       "      <th>2</th>\n",
       "      <td>single</td>\n",
       "      <td>Training rounds</td>\n",
       "      <td>32519-32519</td>\n",
       "      <td>325192931513079</td>\n",
       "      <td>terrier</td>\n",
       "      <td>hound</td>\n",
       "      <td>1</td>\n",
       "      <td>A7.jpg</td>\n",
       "      <td>frame3</td>\n",
       "      <td>A</td>\n",
       "      <td>A</td>\n",
       "      <td>1</td>\n",
       "      <td>True</td>\n",
       "      <td>NaN</td>\n",
       "      <td>NaN</td>\n",
       "      <td>NaN</td>\n",
       "      <td>NaN</td>\n",
       "    </tr>\n",
       "    <tr>\n",
       "      <th>3</th>\n",
       "      <td>single</td>\n",
       "      <td>Training rounds</td>\n",
       "      <td>32519-32519</td>\n",
       "      <td>325192931513079</td>\n",
       "      <td>terrier</td>\n",
       "      <td>hound</td>\n",
       "      <td>1</td>\n",
       "      <td>A6.jpg</td>\n",
       "      <td>frame4</td>\n",
       "      <td>A</td>\n",
       "      <td>A</td>\n",
       "      <td>1</td>\n",
       "      <td>True</td>\n",
       "      <td>NaN</td>\n",
       "      <td>NaN</td>\n",
       "      <td>NaN</td>\n",
       "      <td>NaN</td>\n",
       "    </tr>\n",
       "    <tr>\n",
       "      <th>4</th>\n",
       "      <td>single</td>\n",
       "      <td>Training rounds</td>\n",
       "      <td>32519-32519</td>\n",
       "      <td>325192931513079</td>\n",
       "      <td>terrier</td>\n",
       "      <td>hound</td>\n",
       "      <td>1</td>\n",
       "      <td>A5.jpg</td>\n",
       "      <td>frame5</td>\n",
       "      <td>A</td>\n",
       "      <td>A</td>\n",
       "      <td>1</td>\n",
       "      <td>True</td>\n",
       "      <td>NaN</td>\n",
       "      <td>NaN</td>\n",
       "      <td>NaN</td>\n",
       "      <td>NaN</td>\n",
       "    </tr>\n",
       "  </tbody>\n",
       "</table>\n",
       "</div>"
      ],
      "text/plain": [
       "  treatment            stage         dyad           player expert_in  \\\n",
       "0    single  Training rounds  32519-32519  325192931513079   terrier   \n",
       "1    single  Training rounds  32519-32519  325192931513079   terrier   \n",
       "2    single  Training rounds  32519-32519  325192931513079   terrier   \n",
       "3    single  Training rounds  32519-32519  325192931513079   terrier   \n",
       "4    single  Training rounds  32519-32519  325192931513079   terrier   \n",
       "\n",
       "  novice_in  round   object position kind classif  accuracy  expert_dog  \\\n",
       "0     hound      1  C11.jpg   frame1    C       C         1        True   \n",
       "1     hound      1   A1.jpg   frame2    A       C         0        True   \n",
       "2     hound      1   A7.jpg   frame3    A       A         1        True   \n",
       "3     hound      1   A6.jpg   frame4    A       A         1        True   \n",
       "4     hound      1   A5.jpg   frame5    A       A         1        True   \n",
       "\n",
       "   queried  answer_correct  answered  yes/no  \n",
       "0      NaN             NaN       NaN     NaN  \n",
       "1      NaN             NaN       NaN     NaN  \n",
       "2      NaN             NaN       NaN     NaN  \n",
       "3      NaN             NaN       NaN     NaN  \n",
       "4      NaN             NaN       NaN     NaN  "
      ]
     },
     "execution_count": 24,
     "metadata": {},
     "output_type": "execute_result"
    }
   ],
   "source": [
    "data.head()"
   ]
  },
  {
   "cell_type": "code",
   "execution_count": 42,
   "metadata": {},
   "outputs": [
    {
     "data": {
      "text/plain": [
       "<AxesSubplot:xlabel='round', ylabel='accuracy'>"
      ]
     },
     "execution_count": 42,
     "metadata": {},
     "output_type": "execute_result"
    },
    {
     "data": {
      "image/png": "[encoded data removed]",
      "text/plain": [
       "<Figure size 432x288 with 1 Axes>"
      ]
     },
     "metadata": {
      "needs_background": "light"
     },
     "output_type": "display_data"
    }
   ],
   "source": [
    "df_game = filter_variables(data, {\n",
    "    'stage==':'Game rounds'\n",
    "})\n",
    "sns.lineplot(x='round', y='accuracy', hue='treatment', data=data)"
   ]
  },
  {
   "cell_type": "code",
   "execution_count": 26,
   "metadata": {},
   "outputs": [
    {
     "data": {
      "text/html": [
       "<div>\n",
       "<style scoped>\n",
       "    .dataframe tbody tr th:only-of-type {\n",
       "        vertical-align: middle;\n",
       "    }\n",
       "\n",
       "    .dataframe tbody tr th {\n",
       "        vertical-align: top;\n",
       "    }\n",
       "\n",
       "    .dataframe thead th {\n",
       "        text-align: right;\n",
       "    }\n",
       "</style>\n",
       "<table border=\"1\" class=\"dataframe\">\n",
       "  <thead>\n",
       "    <tr style=\"text-align: right;\">\n",
       "      <th></th>\n",
       "      <th>treatment</th>\n",
       "      <th>stage</th>\n",
       "      <th>dyad</th>\n",
       "      <th>player</th>\n",
       "      <th>expert_in</th>\n",
       "      <th>novice_in</th>\n",
       "      <th>round</th>\n",
       "      <th>object</th>\n",
       "      <th>position</th>\n",
       "      <th>kind</th>\n",
       "      <th>...</th>\n",
       "      <th>accuracy</th>\n",
       "      <th>expert_dog</th>\n",
       "      <th>queried</th>\n",
       "      <th>answer_correct</th>\n",
       "      <th>answered</th>\n",
       "      <th>yes/no</th>\n",
       "      <th>num_queries</th>\n",
       "      <th>answer</th>\n",
       "      <th>accuracy_queried</th>\n",
       "      <th>accuracy_individual</th>\n",
       "    </tr>\n",
       "  </thead>\n",
       "  <tbody>\n",
       "    <tr>\n",
       "      <th>11206</th>\n",
       "      <td>dyad</td>\n",
       "      <td>Game rounds</td>\n",
       "      <td>45981-38174</td>\n",
       "      <td>459819203408978</td>\n",
       "      <td>hound</td>\n",
       "      <td>terrier</td>\n",
       "      <td>1</td>\n",
       "      <td>C1.jpg</td>\n",
       "      <td>frame2</td>\n",
       "      <td>C</td>\n",
       "      <td>...</td>\n",
       "      <td>0</td>\n",
       "      <td>False</td>\n",
       "      <td>0</td>\n",
       "      <td>NaN</td>\n",
       "      <td>NaN</td>\n",
       "      <td>NaN</td>\n",
       "      <td>0.0</td>\n",
       "      <td>0</td>\n",
       "      <td>0</td>\n",
       "      <td>0</td>\n",
       "    </tr>\n",
       "    <tr>\n",
       "      <th>11209</th>\n",
       "      <td>dyad</td>\n",
       "      <td>Game rounds</td>\n",
       "      <td>45981-38174</td>\n",
       "      <td>459819203408978</td>\n",
       "      <td>hound</td>\n",
       "      <td>terrier</td>\n",
       "      <td>1</td>\n",
       "      <td>A10.jpg</td>\n",
       "      <td>frame5</td>\n",
       "      <td>A</td>\n",
       "      <td>...</td>\n",
       "      <td>0</td>\n",
       "      <td>False</td>\n",
       "      <td>0</td>\n",
       "      <td>NaN</td>\n",
       "      <td>NaN</td>\n",
       "      <td>NaN</td>\n",
       "      <td>0.0</td>\n",
       "      <td>0</td>\n",
       "      <td>0</td>\n",
       "      <td>0</td>\n",
       "    </tr>\n",
       "    <tr>\n",
       "      <th>11210</th>\n",
       "      <td>dyad</td>\n",
       "      <td>Game rounds</td>\n",
       "      <td>45981-38174</td>\n",
       "      <td>38174543864515</td>\n",
       "      <td>terrier</td>\n",
       "      <td>hound</td>\n",
       "      <td>1</td>\n",
       "      <td>B1.jpg</td>\n",
       "      <td>frame1</td>\n",
       "      <td>B</td>\n",
       "      <td>...</td>\n",
       "      <td>1</td>\n",
       "      <td>False</td>\n",
       "      <td>0</td>\n",
       "      <td>NaN</td>\n",
       "      <td>NaN</td>\n",
       "      <td>NaN</td>\n",
       "      <td>0.0</td>\n",
       "      <td>0</td>\n",
       "      <td>0</td>\n",
       "      <td>1</td>\n",
       "    </tr>\n",
       "    <tr>\n",
       "      <th>11212</th>\n",
       "      <td>dyad</td>\n",
       "      <td>Game rounds</td>\n",
       "      <td>45981-38174</td>\n",
       "      <td>38174543864515</td>\n",
       "      <td>terrier</td>\n",
       "      <td>hound</td>\n",
       "      <td>1</td>\n",
       "      <td>B5.jpg</td>\n",
       "      <td>frame3</td>\n",
       "      <td>B</td>\n",
       "      <td>...</td>\n",
       "      <td>0</td>\n",
       "      <td>False</td>\n",
       "      <td>0</td>\n",
       "      <td>NaN</td>\n",
       "      <td>NaN</td>\n",
       "      <td>NaN</td>\n",
       "      <td>0.0</td>\n",
       "      <td>0</td>\n",
       "      <td>0</td>\n",
       "      <td>0</td>\n",
       "    </tr>\n",
       "    <tr>\n",
       "      <th>11213</th>\n",
       "      <td>dyad</td>\n",
       "      <td>Game rounds</td>\n",
       "      <td>45981-38174</td>\n",
       "      <td>38174543864515</td>\n",
       "      <td>terrier</td>\n",
       "      <td>hound</td>\n",
       "      <td>1</td>\n",
       "      <td>B8.jpg</td>\n",
       "      <td>frame4</td>\n",
       "      <td>B</td>\n",
       "      <td>...</td>\n",
       "      <td>0</td>\n",
       "      <td>False</td>\n",
       "      <td>0</td>\n",
       "      <td>NaN</td>\n",
       "      <td>NaN</td>\n",
       "      <td>NaN</td>\n",
       "      <td>0.0</td>\n",
       "      <td>0</td>\n",
       "      <td>0</td>\n",
       "      <td>0</td>\n",
       "    </tr>\n",
       "  </tbody>\n",
       "</table>\n",
       "<p>5 rows × 21 columns</p>\n",
       "</div>"
      ],
      "text/plain": [
       "      treatment        stage         dyad           player expert_in  \\\n",
       "11206      dyad  Game rounds  45981-38174  459819203408978     hound   \n",
       "11209      dyad  Game rounds  45981-38174  459819203408978     hound   \n",
       "11210      dyad  Game rounds  45981-38174   38174543864515   terrier   \n",
       "11212      dyad  Game rounds  45981-38174   38174543864515   terrier   \n",
       "11213      dyad  Game rounds  45981-38174   38174543864515   terrier   \n",
       "\n",
       "      novice_in  round   object position kind  ... accuracy  expert_dog  \\\n",
       "11206   terrier      1   C1.jpg   frame2    C  ...        0       False   \n",
       "11209   terrier      1  A10.jpg   frame5    A  ...        0       False   \n",
       "11210     hound      1   B1.jpg   frame1    B  ...        1       False   \n",
       "11212     hound      1   B5.jpg   frame3    B  ...        0       False   \n",
       "11213     hound      1   B8.jpg   frame4    B  ...        0       False   \n",
       "\n",
       "       queried  answer_correct  answered  yes/no  num_queries  answer  \\\n",
       "11206        0             NaN       NaN     NaN          0.0       0   \n",
       "11209        0             NaN       NaN     NaN          0.0       0   \n",
       "11210        0             NaN       NaN     NaN          0.0       0   \n",
       "11212        0             NaN       NaN     NaN          0.0       0   \n",
       "11213        0             NaN       NaN     NaN          0.0       0   \n",
       "\n",
       "       accuracy_queried  accuracy_individual  \n",
       "11206                 0                    0  \n",
       "11209                 0                    0  \n",
       "11210                 0                    1  \n",
       "11212                 0                    0  \n",
       "11213                 0                    0  \n",
       "\n",
       "[5 rows x 21 columns]"
      ]
     },
     "execution_count": 26,
     "metadata": {},
     "output_type": "execute_result"
    }
   ],
   "source": [
    "game_dyad = filter_variables(data, {\n",
    "    'treatment==':'dyad', \n",
    "    'stage==':'Game rounds',\n",
    "    'expert_dog==':False,\n",
    "    'round<': 30\n",
    "})\n",
    "game_dyad['num_queries'] = game_dyad['queried'].apply(lambda x: x if x>0 else 0)\n",
    "game_dyad['queried'] = game_dyad['queried'].apply(lambda x: 1 if x>0 else 0)\n",
    "game_dyad['answer'] = game_dyad['answered'].apply(lambda x: 1 if x>0 else 0)\n",
    "game_dyad['accuracy_queried'] = game_dyad[['accuracy', 'queried']].apply(lambda x: 1 if ((x['queried']==1) & (x['accuracy']==1)) else 0, axis=1)\n",
    "game_dyad['accuracy_individual'] = game_dyad[['accuracy', 'queried']].apply(lambda x: 1 if ((x['queried']==0) & (x['accuracy']==1)) else 0, axis=1)\n",
    "game_dyad.head()"
   ]
  },
  {
   "cell_type": "code",
   "execution_count": 38,
   "metadata": {},
   "outputs": [
    {
     "data": {
      "text/html": [
       "<div>\n",
       "<style scoped>\n",
       "    .dataframe tbody tr th:only-of-type {\n",
       "        vertical-align: middle;\n",
       "    }\n",
       "\n",
       "    .dataframe tbody tr th {\n",
       "        vertical-align: top;\n",
       "    }\n",
       "\n",
       "    .dataframe thead th {\n",
       "        text-align: right;\n",
       "    }\n",
       "</style>\n",
       "<table border=\"1\" class=\"dataframe\">\n",
       "  <thead>\n",
       "    <tr style=\"text-align: right;\">\n",
       "      <th></th>\n",
       "      <th>player</th>\n",
       "      <th>kind</th>\n",
       "      <th>round</th>\n",
       "      <th>num_queries</th>\n",
       "      <th>queried</th>\n",
       "      <th>yes/no</th>\n",
       "      <th>accuracy</th>\n",
       "      <th>accuracy_queried</th>\n",
       "      <th>accuracy_individual</th>\n",
       "      <th>new_use</th>\n",
       "      <th>acc_accuracy</th>\n",
       "      <th>acc_queried</th>\n",
       "      <th>acc_precision_individual</th>\n",
       "      <th>acc_accuracy_queried</th>\n",
       "      <th>A</th>\n",
       "      <th>B</th>\n",
       "      <th>C</th>\n",
       "      <th>D</th>\n",
       "    </tr>\n",
       "  </thead>\n",
       "  <tbody>\n",
       "    <tr>\n",
       "      <th>0</th>\n",
       "      <td>21409433577947</td>\n",
       "      <td>B</td>\n",
       "      <td>3</td>\n",
       "      <td>2.0</td>\n",
       "      <td>1.000000</td>\n",
       "      <td>0.500000</td>\n",
       "      <td>0.000000</td>\n",
       "      <td>0.000000</td>\n",
       "      <td>0.0</td>\n",
       "      <td>0.333333</td>\n",
       "      <td>0.000000</td>\n",
       "      <td>1.000000</td>\n",
       "      <td>0.0</td>\n",
       "      <td>0.000000</td>\n",
       "      <td>0</td>\n",
       "      <td>1</td>\n",
       "      <td>0</td>\n",
       "      <td>0</td>\n",
       "    </tr>\n",
       "    <tr>\n",
       "      <th>1</th>\n",
       "      <td>21409433577947</td>\n",
       "      <td>B</td>\n",
       "      <td>4</td>\n",
       "      <td>2.0</td>\n",
       "      <td>0.333333</td>\n",
       "      <td>0.500000</td>\n",
       "      <td>0.333333</td>\n",
       "      <td>0.333333</td>\n",
       "      <td>0.0</td>\n",
       "      <td>0.500000</td>\n",
       "      <td>0.333333</td>\n",
       "      <td>1.333333</td>\n",
       "      <td>0.0</td>\n",
       "      <td>0.333333</td>\n",
       "      <td>0</td>\n",
       "      <td>1</td>\n",
       "      <td>0</td>\n",
       "      <td>0</td>\n",
       "    </tr>\n",
       "    <tr>\n",
       "      <th>2</th>\n",
       "      <td>21409433577947</td>\n",
       "      <td>B</td>\n",
       "      <td>6</td>\n",
       "      <td>4.0</td>\n",
       "      <td>0.500000</td>\n",
       "      <td>0.166667</td>\n",
       "      <td>1.000000</td>\n",
       "      <td>0.500000</td>\n",
       "      <td>0.5</td>\n",
       "      <td>0.500000</td>\n",
       "      <td>1.333333</td>\n",
       "      <td>1.833333</td>\n",
       "      <td>0.5</td>\n",
       "      <td>0.833333</td>\n",
       "      <td>0</td>\n",
       "      <td>1</td>\n",
       "      <td>0</td>\n",
       "      <td>0</td>\n",
       "    </tr>\n",
       "    <tr>\n",
       "      <th>3</th>\n",
       "      <td>21409433577947</td>\n",
       "      <td>B</td>\n",
       "      <td>8</td>\n",
       "      <td>2.0</td>\n",
       "      <td>0.500000</td>\n",
       "      <td>0.500000</td>\n",
       "      <td>0.500000</td>\n",
       "      <td>0.500000</td>\n",
       "      <td>0.0</td>\n",
       "      <td>1.000000</td>\n",
       "      <td>1.833333</td>\n",
       "      <td>2.333333</td>\n",
       "      <td>0.5</td>\n",
       "      <td>1.333333</td>\n",
       "      <td>0</td>\n",
       "      <td>1</td>\n",
       "      <td>0</td>\n",
       "      <td>0</td>\n",
       "    </tr>\n",
       "    <tr>\n",
       "      <th>4</th>\n",
       "      <td>21409433577947</td>\n",
       "      <td>B</td>\n",
       "      <td>9</td>\n",
       "      <td>1.0</td>\n",
       "      <td>1.000000</td>\n",
       "      <td>1.000000</td>\n",
       "      <td>1.000000</td>\n",
       "      <td>1.000000</td>\n",
       "      <td>0.0</td>\n",
       "      <td>1.000000</td>\n",
       "      <td>2.833333</td>\n",
       "      <td>3.333333</td>\n",
       "      <td>0.5</td>\n",
       "      <td>2.333333</td>\n",
       "      <td>0</td>\n",
       "      <td>1</td>\n",
       "      <td>0</td>\n",
       "      <td>0</td>\n",
       "    </tr>\n",
       "  </tbody>\n",
       "</table>\n",
       "</div>"
      ],
      "text/plain": [
       "           player kind  round  num_queries   queried    yes/no  accuracy  \\\n",
       "0  21409433577947    B      3          2.0  1.000000  0.500000  0.000000   \n",
       "1  21409433577947    B      4          2.0  0.333333  0.500000  0.333333   \n",
       "2  21409433577947    B      6          4.0  0.500000  0.166667  1.000000   \n",
       "3  21409433577947    B      8          2.0  0.500000  0.500000  0.500000   \n",
       "4  21409433577947    B      9          1.0  1.000000  1.000000  1.000000   \n",
       "\n",
       "   accuracy_queried  accuracy_individual   new_use  acc_accuracy  acc_queried  \\\n",
       "0          0.000000                  0.0  0.333333      0.000000     1.000000   \n",
       "1          0.333333                  0.0  0.500000      0.333333     1.333333   \n",
       "2          0.500000                  0.5  0.500000      1.333333     1.833333   \n",
       "3          0.500000                  0.0  1.000000      1.833333     2.333333   \n",
       "4          1.000000                  0.0  1.000000      2.833333     3.333333   \n",
       "\n",
       "   acc_precision_individual  acc_accuracy_queried  A  B  C  D  \n",
       "0                       0.0              0.000000  0  1  0  0  \n",
       "1                       0.0              0.333333  0  1  0  0  \n",
       "2                       0.5              0.833333  0  1  0  0  \n",
       "3                       0.5              1.333333  0  1  0  0  \n",
       "4                       0.5              2.333333  0  1  0  0  "
      ]
     },
     "execution_count": 38,
     "metadata": {},
     "output_type": "execute_result"
    }
   ],
   "source": [
    "df_use = game_dyad.groupby(['player', 'kind', 'round']).agg({\n",
    "    'num_queries':'sum',\n",
    "    'queried':'mean',\n",
    "    'yes/no':'mean',\n",
    "    'accuracy':'mean',\n",
    "    'accuracy_queried':'mean',\n",
    "    'accuracy_individual':'mean'\n",
    "}).reset_index()\n",
    "#df_use.columns = df_use.columns.get_level_values(0)\n",
    "#df_use.columns = ['player', 'round', 'num_queries', 'queried', 'yes/no', 'accuracy']\n",
    "df_use['new_use'] = df_use.groupby('player')['queried'].transform('shift',-1)\n",
    "df_use.sort_values(by=['player', 'kind', 'round'], inplace=True)\n",
    "df_use['acc_accuracy'] = df_use.groupby('player')['accuracy'].cumsum()\n",
    "df_use['acc_queried'] = df_use.groupby('player')['queried'].cumsum()\n",
    "df_use['acc_precision_individual'] = df_use.groupby('player')['accuracy_individual'].cumsum()\n",
    "df_use['acc_accuracy_queried'] = df_use.groupby('player')['accuracy_queried'].cumsum()\n",
    "df_use['A'] = df_use['kind'].apply(lambda x: 1 if x=='A' else 0)\n",
    "df_use['B'] = df_use['kind'].apply(lambda x: 1 if x=='B' else 0)\n",
    "df_use['C'] = df_use['kind'].apply(lambda x: 1 if x=='C' else 0)\n",
    "df_use['D'] = df_use['kind'].apply(lambda x: 1 if x=='D' else 0)\n",
    "df_use.head()"
   ]
  },
  {
   "cell_type": "code",
   "execution_count": 39,
   "metadata": {},
   "outputs": [
    {
     "name": "stdout",
     "output_type": "stream",
     "text": [
      "                            OLS Regression Results                            \n",
      "==============================================================================\n",
      "Dep. Variable:                new_use   R-squared:                       0.449\n",
      "Model:                            OLS   Adj. R-squared:                  0.448\n",
      "Method:                 Least Squares   F-statistic:                     400.3\n",
      "Date:                Wed, 20 Oct 2021   Prob (F-statistic):          3.81e-190\n",
      "Time:                        11:36:34   Log-Likelihood:                -512.87\n",
      "No. Observations:                1478   AIC:                             1034.\n",
      "Df Residuals:                    1474   BIC:                             1055.\n",
      "Df Model:                           3                                         \n",
      "Covariance Type:            nonrobust                                         \n",
      "============================================================================================\n",
      "                               coef    std err          t      P>|t|      [0.025      0.975]\n",
      "--------------------------------------------------------------------------------------------\n",
      "Intercept                    0.2839      0.020     14.284      0.000       0.245       0.323\n",
      "queried                      0.3315      0.025     13.109      0.000       0.282       0.381\n",
      "acc_precision_individual    -0.0141      0.001    -11.245      0.000      -0.017      -0.012\n",
      "acc_accuracy_queried         0.0153      0.001     11.268      0.000       0.013       0.018\n",
      "==============================================================================\n",
      "Omnibus:                        6.887   Durbin-Watson:                   2.093\n",
      "Prob(Omnibus):                  0.032   Jarque-Bera (JB):                6.800\n",
      "Skew:                           0.156   Prob(JB):                       0.0334\n",
      "Kurtosis:                       3.113   Cond. No.                         41.6\n",
      "==============================================================================\n",
      "\n",
      "Notes:\n",
      "[1] Standard Errors assume that the covariance matrix of the errors is correctly specified.\n"
     ]
    }
   ],
   "source": [
    "mod = smf.ols(formula='new_use ~  queried + acc_precision_individual + acc_accuracy_queried', data=df_use)\n",
    "res = mod.fit()\n",
    "print(res.summary())"
   ]
  },
  {
   "cell_type": "code",
   "execution_count": 40,
   "metadata": {
    "scrolled": false
   },
   "outputs": [
    {
     "name": "stdout",
     "output_type": "stream",
     "text": [
      "                            OLS Regression Results                            \n",
      "==============================================================================\n",
      "Dep. Variable:                new_use   R-squared:                       0.450\n",
      "Model:                            OLS   Adj. R-squared:                  0.447\n",
      "Method:                 Least Squares   F-statistic:                     200.2\n",
      "Date:                Wed, 20 Oct 2021   Prob (F-statistic):          1.06e-186\n",
      "Time:                        11:36:35   Log-Likelihood:                -512.01\n",
      "No. Observations:                1478   AIC:                             1038.\n",
      "Df Residuals:                    1471   BIC:                             1075.\n",
      "Df Model:                           6                                         \n",
      "Covariance Type:            nonrobust                                         \n",
      "============================================================================================\n",
      "                               coef    std err          t      P>|t|      [0.025      0.975]\n",
      "--------------------------------------------------------------------------------------------\n",
      "Intercept                    0.2475      0.023     10.695      0.000       0.202       0.293\n",
      "queried                      0.3296      0.025     13.005      0.000       0.280       0.379\n",
      "acc_precision_individual    -0.0158      0.002     -8.461      0.000      -0.019      -0.012\n",
      "acc_accuracy_queried         0.0139      0.002      7.760      0.000       0.010       0.017\n",
      "A                            0.0482      0.017      2.822      0.005       0.015       0.082\n",
      "B                            0.0386      0.017      2.267      0.024       0.005       0.072\n",
      "C                            0.0769      0.024      3.255      0.001       0.031       0.123\n",
      "D                            0.0838      0.024      3.549      0.000       0.037       0.130\n",
      "==============================================================================\n",
      "Omnibus:                        6.729   Durbin-Watson:                   2.089\n",
      "Prob(Omnibus):                  0.035   Jarque-Bera (JB):                6.638\n",
      "Skew:                           0.155   Prob(JB):                       0.0362\n",
      "Kurtosis:                       3.107   Cond. No.                     3.26e+16\n",
      "==============================================================================\n",
      "\n",
      "Notes:\n",
      "[1] Standard Errors assume that the covariance matrix of the errors is correctly specified.\n",
      "[2] The smallest eigenvalue is 2.37e-28. This might indicate that there are\n",
      "strong multicollinearity problems or that the design matrix is singular.\n"
     ]
    }
   ],
   "source": [
    "mod = smf.ols(formula='new_use ~  queried + acc_precision_individual + acc_accuracy_queried + A + B + C + D', data=df_use)\n",
    "res = mod.fit()\n",
    "print(res.summary())"
   ]
  },
  {
   "cell_type": "code",
   "execution_count": 41,
   "metadata": {},
   "outputs": [
    {
     "data": {
      "text/html": [
       "<div>\n",
       "<style scoped>\n",
       "    .dataframe tbody tr th:only-of-type {\n",
       "        vertical-align: middle;\n",
       "    }\n",
       "\n",
       "    .dataframe tbody tr th {\n",
       "        vertical-align: top;\n",
       "    }\n",
       "\n",
       "    .dataframe thead th {\n",
       "        text-align: right;\n",
       "    }\n",
       "</style>\n",
       "<table border=\"1\" class=\"dataframe\">\n",
       "  <thead>\n",
       "    <tr style=\"text-align: right;\">\n",
       "      <th></th>\n",
       "      <th>queried</th>\n",
       "      <th>acc_precision_individual</th>\n",
       "      <th>acc_accuracy_queried</th>\n",
       "      <th>A</th>\n",
       "      <th>B</th>\n",
       "      <th>C</th>\n",
       "      <th>D</th>\n",
       "    </tr>\n",
       "  </thead>\n",
       "  <tbody>\n",
       "    <tr>\n",
       "      <th>queried</th>\n",
       "      <td>1.000000</td>\n",
       "      <td>-0.503378</td>\n",
       "      <td>0.532692</td>\n",
       "      <td>0.016987</td>\n",
       "      <td>-0.001687</td>\n",
       "      <td>0.000239</td>\n",
       "      <td>-0.015771</td>\n",
       "    </tr>\n",
       "    <tr>\n",
       "      <th>acc_precision_individual</th>\n",
       "      <td>-0.503378</td>\n",
       "      <td>1.000000</td>\n",
       "      <td>-0.282861</td>\n",
       "      <td>-0.332413</td>\n",
       "      <td>-0.305988</td>\n",
       "      <td>0.312891</td>\n",
       "      <td>0.329077</td>\n",
       "    </tr>\n",
       "    <tr>\n",
       "      <th>acc_accuracy_queried</th>\n",
       "      <td>0.532692</td>\n",
       "      <td>-0.282861</td>\n",
       "      <td>1.000000</td>\n",
       "      <td>-0.233575</td>\n",
       "      <td>-0.238219</td>\n",
       "      <td>0.256176</td>\n",
       "      <td>0.217913</td>\n",
       "    </tr>\n",
       "    <tr>\n",
       "      <th>A</th>\n",
       "      <td>0.016987</td>\n",
       "      <td>-0.332413</td>\n",
       "      <td>-0.233575</td>\n",
       "      <td>1.000000</td>\n",
       "      <td>-0.336835</td>\n",
       "      <td>-0.339208</td>\n",
       "      <td>-0.332682</td>\n",
       "    </tr>\n",
       "    <tr>\n",
       "      <th>B</th>\n",
       "      <td>-0.001687</td>\n",
       "      <td>-0.305988</td>\n",
       "      <td>-0.238219</td>\n",
       "      <td>-0.336835</td>\n",
       "      <td>1.000000</td>\n",
       "      <td>-0.333915</td>\n",
       "      <td>-0.327491</td>\n",
       "    </tr>\n",
       "    <tr>\n",
       "      <th>C</th>\n",
       "      <td>0.000239</td>\n",
       "      <td>0.312891</td>\n",
       "      <td>0.256176</td>\n",
       "      <td>-0.339208</td>\n",
       "      <td>-0.333915</td>\n",
       "      <td>1.000000</td>\n",
       "      <td>-0.329798</td>\n",
       "    </tr>\n",
       "    <tr>\n",
       "      <th>D</th>\n",
       "      <td>-0.015771</td>\n",
       "      <td>0.329077</td>\n",
       "      <td>0.217913</td>\n",
       "      <td>-0.332682</td>\n",
       "      <td>-0.327491</td>\n",
       "      <td>-0.329798</td>\n",
       "      <td>1.000000</td>\n",
       "    </tr>\n",
       "  </tbody>\n",
       "</table>\n",
       "</div>"
      ],
      "text/plain": [
       "                           queried  acc_precision_individual  \\\n",
       "queried                   1.000000                 -0.503378   \n",
       "acc_precision_individual -0.503378                  1.000000   \n",
       "acc_accuracy_queried      0.532692                 -0.282861   \n",
       "A                         0.016987                 -0.332413   \n",
       "B                        -0.001687                 -0.305988   \n",
       "C                         0.000239                  0.312891   \n",
       "D                        -0.015771                  0.329077   \n",
       "\n",
       "                          acc_accuracy_queried         A         B         C  \\\n",
       "queried                               0.532692  0.016987 -0.001687  0.000239   \n",
       "acc_precision_individual             -0.282861 -0.332413 -0.305988  0.312891   \n",
       "acc_accuracy_queried                  1.000000 -0.233575 -0.238219  0.256176   \n",
       "A                                    -0.233575  1.000000 -0.336835 -0.339208   \n",
       "B                                    -0.238219 -0.336835  1.000000 -0.333915   \n",
       "C                                     0.256176 -0.339208 -0.333915  1.000000   \n",
       "D                                     0.217913 -0.332682 -0.327491 -0.329798   \n",
       "\n",
       "                                 D  \n",
       "queried                  -0.015771  \n",
       "acc_precision_individual  0.329077  \n",
       "acc_accuracy_queried      0.217913  \n",
       "A                        -0.332682  \n",
       "B                        -0.327491  \n",
       "C                        -0.329798  \n",
       "D                         1.000000  "
      ]
     },
     "execution_count": 41,
     "metadata": {},
     "output_type": "execute_result"
    }
   ],
   "source": [
    "df_use[['queried', 'acc_precision_individual', 'acc_accuracy_queried', 'A', 'B', 'C', 'D']].corr()\n"
   ]
  },
  {
   "cell_type": "code",
   "execution_count": 32,
   "metadata": {},
   "outputs": [
    {
     "data": {
      "text/plain": [
       "count    40.000000\n",
       "mean     15.027083\n",
       "std      12.644751\n",
       "min       0.000000\n",
       "25%       3.791667\n",
       "50%      11.750000\n",
       "75%      26.666667\n",
       "max      38.166667\n",
       "Name: acc_queried, dtype: float64"
      ]
     },
     "execution_count": 32,
     "metadata": {},
     "output_type": "execute_result"
    }
   ],
   "source": [
    "df_use.groupby('player')['acc_queried'].max().describe()"
   ]
  },
  {
   "cell_type": "code",
   "execution_count": 33,
   "metadata": {},
   "outputs": [
    {
     "name": "stderr",
     "output_type": "stream",
     "text": [
      "/usr/local/lib/python3.9/site-packages/seaborn/distributions.py:2557: FutureWarning: `distplot` is a deprecated function and will be removed in a future version. Please adapt your code to use either `displot` (a figure-level function with similar flexibility) or `histplot` (an axes-level function for histograms).\n",
      "  warnings.warn(msg, FutureWarning)\n"
     ]
    },
    {
     "data": {
      "text/plain": [
       "<AxesSubplot:xlabel='acc_queried', ylabel='Density'>"
      ]
     },
     "execution_count": 33,
     "metadata": {},
     "output_type": "execute_result"
    },
    {
     "data": {
      "image/png": "[encoded data removed]",
      "text/plain": [
       "<Figure size 432x288 with 1 Axes>"
      ]
     },
     "metadata": {
      "needs_background": "light"
     },
     "output_type": "display_data"
    }
   ],
   "source": [
    "sns.distplot(df_use.groupby('player')['acc_queried'].max())"
   ]
  },
  {
   "cell_type": "code",
   "execution_count": 113,
   "metadata": {},
   "outputs": [
    {
     "data": {
      "text/html": [
       "<div>\n",
       "<style scoped>\n",
       "    .dataframe tbody tr th:only-of-type {\n",
       "        vertical-align: middle;\n",
       "    }\n",
       "\n",
       "    .dataframe tbody tr th {\n",
       "        vertical-align: top;\n",
       "    }\n",
       "\n",
       "    .dataframe thead th {\n",
       "        text-align: right;\n",
       "    }\n",
       "</style>\n",
       "<table border=\"1\" class=\"dataframe\">\n",
       "  <thead>\n",
       "    <tr style=\"text-align: right;\">\n",
       "      <th></th>\n",
       "      <th>player</th>\n",
       "      <th>kind</th>\n",
       "      <th>round</th>\n",
       "      <th>num_queries</th>\n",
       "      <th>queried</th>\n",
       "      <th>yes/no</th>\n",
       "      <th>accuracy</th>\n",
       "      <th>precision_pregunto</th>\n",
       "      <th>precision_individual</th>\n",
       "      <th>new_use</th>\n",
       "      <th>acc_accuracy</th>\n",
       "      <th>acc_queried</th>\n",
       "      <th>acu_precision_individual</th>\n",
       "      <th>acu_precision_pregunto</th>\n",
       "      <th>A</th>\n",
       "      <th>B</th>\n",
       "      <th>C</th>\n",
       "      <th>D</th>\n",
       "      <th>yes_no</th>\n",
       "      <th>use_grp</th>\n",
       "    </tr>\n",
       "  </thead>\n",
       "  <tbody>\n",
       "    <tr>\n",
       "      <th>0</th>\n",
       "      <td>21409433577947</td>\n",
       "      <td>B</td>\n",
       "      <td>3</td>\n",
       "      <td>2.0</td>\n",
       "      <td>1.000000</td>\n",
       "      <td>0.500000</td>\n",
       "      <td>0.000000</td>\n",
       "      <td>0.000000</td>\n",
       "      <td>0.0</td>\n",
       "      <td>0.333333</td>\n",
       "      <td>0.000000</td>\n",
       "      <td>1.000000</td>\n",
       "      <td>0.0</td>\n",
       "      <td>0.000000</td>\n",
       "      <td>0</td>\n",
       "      <td>1</td>\n",
       "      <td>0</td>\n",
       "      <td>0</td>\n",
       "      <td>0.500000</td>\n",
       "      <td>very_low</td>\n",
       "    </tr>\n",
       "    <tr>\n",
       "      <th>1</th>\n",
       "      <td>21409433577947</td>\n",
       "      <td>B</td>\n",
       "      <td>4</td>\n",
       "      <td>2.0</td>\n",
       "      <td>0.333333</td>\n",
       "      <td>0.500000</td>\n",
       "      <td>0.333333</td>\n",
       "      <td>0.333333</td>\n",
       "      <td>0.0</td>\n",
       "      <td>0.500000</td>\n",
       "      <td>0.333333</td>\n",
       "      <td>1.333333</td>\n",
       "      <td>0.0</td>\n",
       "      <td>0.333333</td>\n",
       "      <td>0</td>\n",
       "      <td>1</td>\n",
       "      <td>0</td>\n",
       "      <td>0</td>\n",
       "      <td>0.500000</td>\n",
       "      <td>very_low</td>\n",
       "    </tr>\n",
       "    <tr>\n",
       "      <th>2</th>\n",
       "      <td>21409433577947</td>\n",
       "      <td>B</td>\n",
       "      <td>6</td>\n",
       "      <td>4.0</td>\n",
       "      <td>0.500000</td>\n",
       "      <td>0.166667</td>\n",
       "      <td>1.000000</td>\n",
       "      <td>0.500000</td>\n",
       "      <td>0.5</td>\n",
       "      <td>0.500000</td>\n",
       "      <td>1.333333</td>\n",
       "      <td>1.833333</td>\n",
       "      <td>0.5</td>\n",
       "      <td>0.833333</td>\n",
       "      <td>0</td>\n",
       "      <td>1</td>\n",
       "      <td>0</td>\n",
       "      <td>0</td>\n",
       "      <td>0.166667</td>\n",
       "      <td>very_low</td>\n",
       "    </tr>\n",
       "    <tr>\n",
       "      <th>3</th>\n",
       "      <td>21409433577947</td>\n",
       "      <td>B</td>\n",
       "      <td>8</td>\n",
       "      <td>2.0</td>\n",
       "      <td>0.500000</td>\n",
       "      <td>0.500000</td>\n",
       "      <td>0.500000</td>\n",
       "      <td>0.500000</td>\n",
       "      <td>0.0</td>\n",
       "      <td>1.000000</td>\n",
       "      <td>1.833333</td>\n",
       "      <td>2.333333</td>\n",
       "      <td>0.5</td>\n",
       "      <td>1.333333</td>\n",
       "      <td>0</td>\n",
       "      <td>1</td>\n",
       "      <td>0</td>\n",
       "      <td>0</td>\n",
       "      <td>0.500000</td>\n",
       "      <td>low</td>\n",
       "    </tr>\n",
       "    <tr>\n",
       "      <th>4</th>\n",
       "      <td>21409433577947</td>\n",
       "      <td>B</td>\n",
       "      <td>9</td>\n",
       "      <td>1.0</td>\n",
       "      <td>1.000000</td>\n",
       "      <td>1.000000</td>\n",
       "      <td>1.000000</td>\n",
       "      <td>1.000000</td>\n",
       "      <td>0.0</td>\n",
       "      <td>1.000000</td>\n",
       "      <td>2.833333</td>\n",
       "      <td>3.333333</td>\n",
       "      <td>0.5</td>\n",
       "      <td>2.333333</td>\n",
       "      <td>0</td>\n",
       "      <td>1</td>\n",
       "      <td>0</td>\n",
       "      <td>0</td>\n",
       "      <td>1.000000</td>\n",
       "      <td>low</td>\n",
       "    </tr>\n",
       "  </tbody>\n",
       "</table>\n",
       "</div>"
      ],
      "text/plain": [
       "           player kind  round  num_queries   queried    yes/no  accuracy  \\\n",
       "0  21409433577947    B      3          2.0  1.000000  0.500000  0.000000   \n",
       "1  21409433577947    B      4          2.0  0.333333  0.500000  0.333333   \n",
       "2  21409433577947    B      6          4.0  0.500000  0.166667  1.000000   \n",
       "3  21409433577947    B      8          2.0  0.500000  0.500000  0.500000   \n",
       "4  21409433577947    B      9          1.0  1.000000  1.000000  1.000000   \n",
       "\n",
       "   precision_pregunto  precision_individual   new_use  acc_accuracy  \\\n",
       "0            0.000000                   0.0  0.333333      0.000000   \n",
       "1            0.333333                   0.0  0.500000      0.333333   \n",
       "2            0.500000                   0.5  0.500000      1.333333   \n",
       "3            0.500000                   0.0  1.000000      1.833333   \n",
       "4            1.000000                   0.0  1.000000      2.833333   \n",
       "\n",
       "   acc_queried  acu_precision_individual  acu_precision_pregunto  A  B  C  D  \\\n",
       "0     1.000000                       0.0                0.000000  0  1  0  0   \n",
       "1     1.333333                       0.0                0.333333  0  1  0  0   \n",
       "2     1.833333                       0.5                0.833333  0  1  0  0   \n",
       "3     2.333333                       0.5                1.333333  0  1  0  0   \n",
       "4     3.333333                       0.5                2.333333  0  1  0  0   \n",
       "\n",
       "     yes_no   use_grp  \n",
       "0  0.500000  very_low  \n",
       "1  0.500000  very_low  \n",
       "2  0.166667  very_low  \n",
       "3  0.500000       low  \n",
       "4  1.000000       low  "
      ]
     },
     "execution_count": 113,
     "metadata": {},
     "output_type": "execute_result"
    }
   ],
   "source": [
    "df_use['use_grp'] = pd.cut(df_use['acc_queried'], \n",
    "                                   bins=[0, 2.2, 7.5, 16.8, 25], \n",
    "                                   include_lowest=True, \n",
    "                                   labels=['very_low', 'low', 'mid', 'high'])\n",
    "df_use.head()"
   ]
  },
  {
   "cell_type": "code",
   "execution_count": 118,
   "metadata": {},
   "outputs": [
    {
     "data": {
      "text/plain": [
       "<AxesSubplot:xlabel='round', ylabel='accuracy'>"
      ]
     },
     "execution_count": 118,
     "metadata": {},
     "output_type": "execute_result"
    },
    {
     "data": {
      "image/png": "[encoded data removed]",
      "text/plain": [
       "<Figure size 432x288 with 1 Axes>"
      ]
     },
     "metadata": {
      "needs_background": "light"
     },
     "output_type": "display_data"
    }
   ],
   "source": [
    "df_extremes = df_use[(df_use['use_grp']=='very_low') | (df_use['use_grp']=='high')]\n",
    "sns.lineplot(x='round', y='accuracy', hue='use_grp', data=df_extremes)"
   ]
  },
  {
   "cell_type": "code",
   "execution_count": 122,
   "metadata": {},
   "outputs": [
    {
     "data": {
      "text/plain": [
       "(0.0, 1.0)"
      ]
     },
     "execution_count": 122,
     "metadata": {},
     "output_type": "execute_result"
    },
    {
     "data": {
      "image/png": "[encoded data removed]",
      "text/plain": [
       "<Figure size 432x288 with 1 Axes>"
      ]
     },
     "metadata": {
      "needs_background": "light"
     },
     "output_type": "display_data"
    }
   ],
   "source": [
    "ps = []\n",
    "rounds = []\n",
    "for round, grp in df_extremes.groupby('round'):\n",
    "    dats = grp[grp['use_grp']=='very_low']\n",
    "    a = dats['accuracy'].to_list()\n",
    "    dats = grp[grp['use_grp']=='high']\n",
    "    b = dats['accuracy'].to_list()\n",
    "    t_value,p_value=stats.ttest_ind(a,b)\n",
    "    ps.append(p_value)\n",
    "    rounds.append(round)\n",
    "    \n",
    "fig, ax = plt.subplots()\n",
    "sns.lineplot(y=ps, x=rounds, ax=ax)\n",
    "ax.set_ylim([0,1])"
   ]
  },
  {
   "cell_type": "code",
   "execution_count": 125,
   "metadata": {},
   "outputs": [
    {
     "name": "stdout",
     "output_type": "stream",
     "text": [
      "2.2053430131944552e-07\n"
     ]
    }
   ],
   "source": [
    "a = df_use[df_use['use_grp']=='very_low']['accuracy'].tolist()\n",
    "b= df_use[df_use['use_grp']=='high']['accuracy'].tolist()\n",
    "t_value,p_value=stats.ttest_ind(a,b)\n",
    "print(p_value)"
   ]
  },
  {
   "cell_type": "code",
   "execution_count": 133,
   "metadata": {},
   "outputs": [
    {
     "data": {
      "text/plain": [
       "<AxesSubplot:xlabel='use_grp', ylabel='accuracy'>"
      ]
     },
     "execution_count": 133,
     "metadata": {},
     "output_type": "execute_result"
    },
    {
     "data": {
      "image/png": "[encoded data removed]",
      "text/plain": [
       "<Figure size 432x288 with 1 Axes>"
      ]
     },
     "metadata": {
      "needs_background": "light"
     },
     "output_type": "display_data"
    }
   ],
   "source": [
    "sns.boxplot(x='use_grp', y='accuracy', data=df_extremes)"
   ]
  },
  {
   "cell_type": "code",
   "execution_count": 38,
   "metadata": {},
   "outputs": [
    {
     "data": {
      "text/plain": [
       "<AxesSubplot:xlabel='round', ylabel='queried'>"
      ]
     },
     "execution_count": 38,
     "metadata": {},
     "output_type": "execute_result"
    },
    {
     "data": {
      "image/png": "[encoded data removed]",
      "text/plain": [
       "<Figure size 432x288 with 1 Axes>"
      ]
     },
     "metadata": {
      "needs_background": "light"
     },
     "output_type": "display_data"
    }
   ],
   "source": [
    "sns.lineplot(x='round', y='queried', data=df_use)"
   ]
  },
  {
   "cell_type": "code",
   "execution_count": 39,
   "metadata": {},
   "outputs": [],
   "source": [
    "df_no_use = filter_variables(df_use, {\n",
    "    'acc_queried<':3, \n",
    "    'round<':8\n",
    "})"
   ]
  },
  {
   "cell_type": "code",
   "execution_count": 40,
   "metadata": {},
   "outputs": [
    {
     "data": {
      "text/plain": [
       "count    40.000000\n",
       "mean      1.901667\n",
       "std       0.951021\n",
       "min       0.000000\n",
       "25%       1.520833\n",
       "50%       2.250000\n",
       "75%       2.604167\n",
       "max       3.000000\n",
       "Name: acc_queried, dtype: float64"
      ]
     },
     "execution_count": 40,
     "metadata": {},
     "output_type": "execute_result"
    }
   ],
   "source": [
    "df_no_use.groupby('player')['acc_queried'].max().describe()"
   ]
  },
  {
   "cell_type": "code",
   "execution_count": 41,
   "metadata": {},
   "outputs": [
    {
     "name": "stderr",
     "output_type": "stream",
     "text": [
      "/usr/local/lib/python3.9/site-packages/seaborn/distributions.py:2557: FutureWarning: `distplot` is a deprecated function and will be removed in a future version. Please adapt your code to use either `displot` (a figure-level function with similar flexibility) or `histplot` (an axes-level function for histograms).\n",
      "  warnings.warn(msg, FutureWarning)\n"
     ]
    },
    {
     "data": {
      "text/plain": [
       "<AxesSubplot:xlabel='acc_queried', ylabel='Density'>"
      ]
     },
     "execution_count": 41,
     "metadata": {},
     "output_type": "execute_result"
    },
    {
     "data": {
      "image/png": "[encoded data removed]",
      "text/plain": [
       "<Figure size 432x288 with 1 Axes>"
      ]
     },
     "metadata": {
      "needs_background": "light"
     },
     "output_type": "display_data"
    }
   ],
   "source": [
    "sns.distplot(df_no_use.groupby('player')['acc_queried'].max())"
   ]
  },
  {
   "cell_type": "code",
   "execution_count": 42,
   "metadata": {},
   "outputs": [
    {
     "data": {
      "text/plain": [
       "<AxesSubplot:xlabel='acc_accuracy', ylabel='new_use'>"
      ]
     },
     "execution_count": 42,
     "metadata": {},
     "output_type": "execute_result"
    },
    {
     "data": {
      "image/png": "[encoded data removed]",
      "text/plain": [
       "<Figure size 432x288 with 1 Axes>"
      ]
     },
     "metadata": {
      "needs_background": "light"
     },
     "output_type": "display_data"
    }
   ],
   "source": [
    "sns.regplot(x='acc_accuracy', \n",
    "            y='new_use', \n",
    "            data=df_no_use, \n",
    "            scatter_kws={'alpha':0.5})"
   ]
  },
  {
   "cell_type": "code",
   "execution_count": 43,
   "metadata": {},
   "outputs": [
    {
     "data": {
      "text/plain": [
       "array([ 3,  4,  5,  6,  7,  8,  9, 10, 11, 12, 13, 14, 15, 16, 17, 18, 19,\n",
       "       20, 21, 22, 23, 24, 25,  1,  2])"
      ]
     },
     "execution_count": 43,
     "metadata": {},
     "output_type": "execute_result"
    }
   ],
   "source": [
    "df_use['round'].unique()"
   ]
  },
  {
   "cell_type": "code",
   "execution_count": 44,
   "metadata": {},
   "outputs": [
    {
     "data": {
      "text/plain": [
       "<AxesSubplot:xlabel='acc_accuracy', ylabel='new_use'>"
      ]
     },
     "execution_count": 44,
     "metadata": {},
     "output_type": "execute_result"
    },
    {
     "data": {
      "image/png": "[encoded data removed]",
      "text/plain": [
       "<Figure size 432x288 with 1 Axes>"
      ]
     },
     "metadata": {
      "needs_background": "light"
     },
     "output_type": "display_data"
    }
   ],
   "source": [
    "df_lots_of_use = filter_variables(df_use, {\n",
    "    'acc_queried>':8, \n",
    "    'round>':19\n",
    "})\n",
    "sns.regplot(x='acc_accuracy', \n",
    "            y='new_use', \n",
    "            data=df_lots_of_use, \n",
    "            scatter_kws={'alpha':0.5})"
   ]
  },
  {
   "cell_type": "code",
   "execution_count": 60,
   "metadata": {},
   "outputs": [
    {
     "data": {
      "text/plain": [
       "count    945.000000\n",
       "mean       0.626984\n",
       "std        0.473194\n",
       "min        0.000000\n",
       "25%        0.000000\n",
       "50%        1.000000\n",
       "75%        1.000000\n",
       "max        1.000000\n",
       "Name: yes/no, dtype: float64"
      ]
     },
     "execution_count": 60,
     "metadata": {},
     "output_type": "execute_result"
    }
   ],
   "source": [
    "game_dyad['yes/no'].describe()"
   ]
  },
  {
   "cell_type": "code",
   "execution_count": 76,
   "metadata": {},
   "outputs": [
    {
     "data": {
      "text/html": [
       "<div>\n",
       "<style scoped>\n",
       "    .dataframe tbody tr th:only-of-type {\n",
       "        vertical-align: middle;\n",
       "    }\n",
       "\n",
       "    .dataframe tbody tr th {\n",
       "        vertical-align: top;\n",
       "    }\n",
       "\n",
       "    .dataframe thead th {\n",
       "        text-align: right;\n",
       "    }\n",
       "</style>\n",
       "<table border=\"1\" class=\"dataframe\">\n",
       "  <thead>\n",
       "    <tr style=\"text-align: right;\">\n",
       "      <th></th>\n",
       "      <th>player</th>\n",
       "      <th>round</th>\n",
       "      <th>num_queries</th>\n",
       "      <th>queried</th>\n",
       "      <th>yes/no</th>\n",
       "      <th>accuracy</th>\n",
       "      <th>new_use</th>\n",
       "      <th>acc_accuracy</th>\n",
       "      <th>acc_queried</th>\n",
       "      <th>use_cost</th>\n",
       "      <th>acc_cost</th>\n",
       "    </tr>\n",
       "  </thead>\n",
       "  <tbody>\n",
       "    <tr>\n",
       "      <th>4</th>\n",
       "      <td>21409433577947</td>\n",
       "      <td>7</td>\n",
       "      <td>3.0</td>\n",
       "      <td>1.000000</td>\n",
       "      <td>0.333333</td>\n",
       "      <td>1.000000</td>\n",
       "      <td>0.666667</td>\n",
       "      <td>2.666667</td>\n",
       "      <td>2.500000</td>\n",
       "      <td>2.00</td>\n",
       "      <td>10.333333</td>\n",
       "    </tr>\n",
       "    <tr>\n",
       "      <th>5</th>\n",
       "      <td>21409433577947</td>\n",
       "      <td>8</td>\n",
       "      <td>3.0</td>\n",
       "      <td>0.666667</td>\n",
       "      <td>0.750000</td>\n",
       "      <td>0.666667</td>\n",
       "      <td>0.500000</td>\n",
       "      <td>3.333333</td>\n",
       "      <td>3.166667</td>\n",
       "      <td>0.75</td>\n",
       "      <td>11.083333</td>\n",
       "    </tr>\n",
       "    <tr>\n",
       "      <th>6</th>\n",
       "      <td>21409433577947</td>\n",
       "      <td>9</td>\n",
       "      <td>1.0</td>\n",
       "      <td>0.500000</td>\n",
       "      <td>1.000000</td>\n",
       "      <td>0.500000</td>\n",
       "      <td>1.000000</td>\n",
       "      <td>3.833333</td>\n",
       "      <td>3.666667</td>\n",
       "      <td>0.00</td>\n",
       "      <td>11.083333</td>\n",
       "    </tr>\n",
       "    <tr>\n",
       "      <th>7</th>\n",
       "      <td>21409433577947</td>\n",
       "      <td>10</td>\n",
       "      <td>1.0</td>\n",
       "      <td>1.000000</td>\n",
       "      <td>1.000000</td>\n",
       "      <td>1.000000</td>\n",
       "      <td>1.000000</td>\n",
       "      <td>4.833333</td>\n",
       "      <td>4.666667</td>\n",
       "      <td>0.00</td>\n",
       "      <td>11.083333</td>\n",
       "    </tr>\n",
       "    <tr>\n",
       "      <th>8</th>\n",
       "      <td>21409433577947</td>\n",
       "      <td>11</td>\n",
       "      <td>3.0</td>\n",
       "      <td>1.000000</td>\n",
       "      <td>0.500000</td>\n",
       "      <td>1.000000</td>\n",
       "      <td>1.000000</td>\n",
       "      <td>5.833333</td>\n",
       "      <td>5.666667</td>\n",
       "      <td>1.50</td>\n",
       "      <td>12.583333</td>\n",
       "    </tr>\n",
       "  </tbody>\n",
       "</table>\n",
       "</div>"
      ],
      "text/plain": [
       "           player  round  num_queries   queried    yes/no  accuracy   new_use  \\\n",
       "4  21409433577947      7          3.0  1.000000  0.333333  1.000000  0.666667   \n",
       "5  21409433577947      8          3.0  0.666667  0.750000  0.666667  0.500000   \n",
       "6  21409433577947      9          1.0  0.500000  1.000000  0.500000  1.000000   \n",
       "7  21409433577947     10          1.0  1.000000  1.000000  1.000000  1.000000   \n",
       "8  21409433577947     11          3.0  1.000000  0.500000  1.000000  1.000000   \n",
       "\n",
       "   acc_accuracy  acc_queried  use_cost   acc_cost  \n",
       "4      2.666667     2.500000      2.00  10.333333  \n",
       "5      3.333333     3.166667      0.75  11.083333  \n",
       "6      3.833333     3.666667      0.00  11.083333  \n",
       "7      4.833333     4.666667      0.00  11.083333  \n",
       "8      5.833333     5.666667      1.50  12.583333  "
      ]
     },
     "execution_count": 76,
     "metadata": {},
     "output_type": "execute_result"
    }
   ],
   "source": [
    "df_inbetween = filter_variables(df_use, {\n",
    "    'acc_queried>':2, \n",
    "    'acc_queried<':7\n",
    "})\n",
    "df_inbetween.head()"
   ]
  },
  {
   "cell_type": "code",
   "execution_count": 82,
   "metadata": {},
   "outputs": [
    {
     "data": {
      "text/plain": [
       "<AxesSubplot:xlabel='acc_cost', ylabel='new_use'>"
      ]
     },
     "execution_count": 82,
     "metadata": {},
     "output_type": "execute_result"
    },
    {
     "data": {
      "image/png": "[encoded data removed]",
      "text/plain": [
       "<Figure size 432x288 with 1 Axes>"
      ]
     },
     "metadata": {
      "needs_background": "light"
     },
     "output_type": "display_data"
    }
   ],
   "source": [
    "sns.regplot(x='acc_cost', y='new_use', data=df_use, \n",
    "            scatter_kws={'alpha':0.5})"
   ]
  },
  {
   "cell_type": "code",
   "execution_count": null,
   "metadata": {},
   "outputs": [],
   "source": []
  }
 ],
 "metadata": {
  "kernelspec": {
   "display_name": "Python 3",
   "language": "python",
   "name": "python3"
  },
  "language_info": {
   "codemirror_mode": {
    "name": "ipython",
    "version": 3
   },
   "file_extension": ".py",
   "mimetype": "text/x-python",
   "name": "python",
   "nbconvert_exporter": "python",
   "pygments_lexer": "ipython3",
   "version": "3.9.7"
  }
 },
 "nbformat": 4,
 "nbformat_minor": 4
}
